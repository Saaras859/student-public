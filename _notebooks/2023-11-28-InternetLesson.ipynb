{
 "cells": [
  {
   "cell_type": "markdown",
   "metadata": {},
   "source": [
    "---\n",
    "toc: true\n",
    "comments: true\n",
    "layout: post\n",
    "title: InternetLesson\n",
    "type: tangibles\n",
    "courses: {'csp': {'week': 15}}\n",
    "---"
   ]
  },
  {
   "cell_type": "markdown",
   "metadata": {},
   "source": [
    "## Internet History Fun Facts\n",
    "- A catalyst in the formation of the Internet was the heating up of the Cold War. The Soviet Union's launch of the Sputnik satellite spurred the U.S. Defense Department to consider ways information could still be disseminated even after a nuclear attack.\n",
    "- ARPANET was created in 1969 and provided the foundation for what came to be known as the Internet\n",
    "- January 1, 1983 is the official birthday of the modern internet"
   ]
  },
  {
   "cell_type": "markdown",
   "metadata": {},
   "source": [
    "## FOR ME LATER MAKE SURE TO ADD DISCORD IMAGE OF \n",
    "![Layer 1](https://cf-assets.www.cloudflare.com/slt3lc6tev37/6ZH2Etm3LlFHTgmkjLmkxp/59ff240fb3ebdc7794ffaa6e1d69b7c2/osi_model_7_layers.png)"
   ]
  },
  {
   "cell_type": "markdown",
   "metadata": {},
   "source": [
    "## OSI Model\n",
    "\n",
    "The OSI (Open Systems Interconnection) model is a conceptual framework that standardizes the functions of a telecommunication or computing system into seven abstraction layers. Each layer in the OSI model performs specific functions, and together they facilitate communication between different systems. Here's a brief overview of what each layer does:  \n",
    "\n",
    "**1. Physical Layer (Layer 1):**\n",
    "- Manages the physical connection and transmission of raw data bits.\n",
    "\n",
    "**2. Data Link Layer (Layer 2):**\n",
    "- Ensures reliable communication over a physical layer, handling framing and addressing.\n",
    "\n",
    "**3. Network Layer (Layer 3):**\n",
    "- Focuses on logical addressing and routing data between different networks.\n",
    "\n",
    "**4. Transport Layer (Layer 4):**\n",
    "- Manages end-to-end communication, ensuring reliable and ordered data delivery.\n",
    "\n"
   ]
  },
  {
   "cell_type": "markdown",
   "metadata": {},
   "source": [
    "## OSI Model in a network\n",
    "\n",
    "**1. Physical Layer (Layer 1):**\n",
    "<br>![Layer 1](https://www.ad-net.com.tw/wp-content/uploads/2018/01/Layer-1-1.jpg)\n",
    "  \n",
    "Layer 1 is how devices transmit information to each other (ethernet, network adaptors)\n",
    "\n",
    "When we send information, we send it \"physically\" hence the name physical layer\n",
    "\n",
    "**2. Data Link Layer (Layer 2):**\n",
    "\n",
    "When we send information, we send it in binary, frames are the units of binary data, they are the information we send from one device to another (in the same network network)\n",
    "\n",
    "For example, if i want to send the message \"Hello\" to my brother on the same network, the frame will be sent within the network to the corresponding MAC address(Media Access Control) address, sometimes referred to as a hardware or physical address, is a unique, 12-character alphanumeric attribute that is used to identify individual electronic devices on a network.\n",
    "\n",
    "Frames can only be sent on the same networ\n",
    "\n",
    "\n",
    "![Layer 2](https://www.howtonetwork.org/wp-content/uploads/2013/10/17.png)\n",
    "\n",
    "**3. Network Layer (Layer 3):**\n",
    "\n",
    "![Layer 3](https://conceptdraw.com/a886c3/p1/preview/640/pict--network-diagram-wireless-router-network-diagram.png--diagram-flowchart-example.png) \n",
    "\n",
    "If I wanted to play Valorant with a friend, I would need to connect to the WiFi, why?\n",
    "\n",
    "Unlike frames, my friend is not on the same network as me, which means MAC Addresses aren't enough to locate the device so they cannot communicate with eachother\n",
    "\n",
    "So we need to identify Hanlun Li on a specific network, how do we do that? IP addresses\n",
    "\n",
    "IP Addresses are supposedly a unique identifier for each device on the network, to access a seperate device on the network, we must give a destination IP address. \n",
    "\n",
    "Packets are basically just frames, but with an IP address included in them\n",
    "\n",
    "\n",
    "\n",
    "![Layer 4](https://intronetworks.cs.luc.edu/1/html/_images/tcp_ladder_states.png)\n",
    "![Layer 4](https://www.colocationamerica.com/wp-content/uploads/2018/12/udp-tcp.jpg) \n",
    "\n",
    "\n",
    "Layer 4 has two protocols UDP and TCP, you can think of it as UDP you just spam packets to the other network without acknowledgement whereas TCP you need to acknowledge everything sent to the other network.\n",
    "\n",
    "In other words, TCP is slower but more reliable, while UDP is faster but less reliable\n",
    "\n",
    "For example:\n",
    "\n",
    "If I'm sending an important email to my boss, I would use TCP because I wouldn't want the data to be corrupted or lost.\n",
    "\n",
    "But, If I'm playing a FPS game, I would use UDP because I need speed to load in whats happening within the game\n",
    "\n",
    "\n"
   ]
  },
  {
   "cell_type": "markdown",
   "metadata": {},
   "source": [
    "**1. Physical Layer (Layer 1) Example:**\n",
    "- **Scenario:** Transmitting data over an Ethernet cable.\n",
    "- **Functionality:**\n",
    "  - Manages the physical connection between devices.\n",
    "  - Handles the transmission of raw data bits over the Ethernet cable.\n",
    "  - Deals with aspects like cable types, connectors, and signal modulation.\n",
    "\n",
    "**Key Terms:**\n",
    "Ethernet"
   ]
  },
  {
   "cell_type": "markdown",
   "metadata": {},
   "source": [
    "**Data Link Layer (Layer 2) Example:**\n",
    "- **Scenario:** Communication between two computers over an Ethernet network.\n",
    "- **Functionality:**\n",
    "  - Breaks data into frames with start and stop bits for accurate transmission.\n",
    "  - Manages MAC addresses for unique identification of devices.\n",
    "  - Regulates frame flow to prevent network congestion.\n",
    "  - Implements error-checking mechanisms like checksums or CRC for data integrity.\n",
    "\n",
    "Switches"
   ]
  },
  {
   "cell_type": "markdown",
   "metadata": {},
   "source": [
    "**Network Layer (Layer 3) Example:**\n",
    "- **Scenario:** Routing data between two networks.\n",
    "- **Functionality:**\n",
    "  - Focuses on logical addressing to uniquely identify devices on different networks.\n",
    "  - Determines optimal paths for data to travel from the source to the destination.\n",
    "  - Manages communication between networks using routers.\n",
    "  - Provides a foundation for end-to-end communication across interconnected networks.\n",
    "\n",
    "Routers - How frames are encapsulated into packets\n",
    "IPV4 Addresses/IPV6 Addresses - Unique Identifiers on Internet\n",
    "DHCP - \n",
    "\n"
   ]
  },
  {
   "cell_type": "markdown",
   "metadata": {},
   "source": [
    "**Transport Layer (Layer 4) Example:**\n",
    "- **Scenario:** Ensuring reliable communication between two applications.\n",
    "- **Functionality:**\n",
    "  - Manages end-to-end communication, ensuring data arrives reliably and in the correct order.\n",
    "  - Provides error detection and recovery mechanisms for data integrity.\n",
    "  - Uses protocols like TCP for connection-oriented and reliable communication.\n",
    "  - Supports protocols like UDP for connectionless and faster communication when some data loss is acceptable.\n"
   ]
  },
  {
   "cell_type": "markdown",
   "metadata": {},
   "source": [
    "**Transport Layer (Layer 4) - TCP vs. UDP**\n",
    "\n",
    "### TCP (Transmission Control Protocol)\n",
    "- **Scenario:** Reliable communication requiring guaranteed data delivery.\n",
    "- **Functionality:**\n",
    "  - Establishes a connection between sender and receiver before data transfer.\n",
    "  - Ensures reliable and ordered delivery of data.\n",
    "  - Implements error detection and correction mechanisms.\n",
    "  - Well-suited for applications where data integrity is crucial, such as file transfers and web browsing.\n",
    "\n",
    "### UDP (User Datagram Protocol)\n",
    "- **Scenario:** Faster communication with acceptable data loss.\n",
    "- **Functionality:**\n",
    "  - Connectionless protocol without establishing a connection before data transfer.\n",
    "  - Does not guarantee reliable or ordered delivery of data.\n",
    "  - Suitable for real-time applications like video streaming and online gaming, where speed is prioritized over perfect data transmission.\n",
    "  - Minimal overhead, making it more lightweight than TCP.\n",
    "\n",
    "**TCP and UDP are two different approaches to data transport, each suited to specific application requirements. The choice between them depends on the priorities of the application: reliability (TCP) or speed (UDP).**\n",
    "\n"
   ]
  },
  {
   "cell_type": "markdown",
   "metadata": {},
   "source": [
    "##### Key Terms and definitions\n"
   ]
  }
 ],
 "metadata": {
  "language_info": {
   "name": "python"
  }
 },
 "nbformat": 4,
 "nbformat_minor": 2
}

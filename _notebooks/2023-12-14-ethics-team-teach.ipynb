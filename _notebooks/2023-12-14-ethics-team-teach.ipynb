{
 "cells": [
  {
   "cell_type": "markdown",
   "metadata": {},
   "source": [
    "---\n",
    "toc: true\n",
    "comments: false\n",
    "layout: post\n",
    "title: Legal and Ethical Concerns\n",
    "type: plans\n",
    "courses: { compsci: {week: 4} }\n",
    "---"
   ]
  },
  {
   "cell_type": "markdown",
   "metadata": {},
   "source": [
    "Essential Knowledge \n",
    "- IOC-1.F.1 Material created on a computer is the intellectual property of the creator or an organization. \n",
    "- IOC-1.F.2 Ease of access and distribution of digitized information raises intellectual property concerns regarding ownership, value, and use. \n",
    "- IOC-1.F.3 Measures should be taken to safeguard intellectual property. \n",
    "- IOC-1.F.4 The use of material created by someone else without permission and presented as one’s own is plagiarism and may have legal consequences.\n",
    "- IOC-1.F.6 The use of material created by someone other than you should always be cited. \n",
    "- IOC-1.F.7 Creative Commons, open source, and open access have enabled broad access to digital information.\n",
    "- IOC-1.F.8 As with any technology or medium, using computing to harm individuals or groups of people raises legal and ethical concerns. \n",
    "- IOC-1.F.9 Computing can play a role in social and political issues, which in turn often raises legal and ethical concerns."
   ]
  },
  {
   "cell_type": "markdown",
   "metadata": {},
   "source": [
    "## What is intellectual property?\n",
    "\n",
    "Intellectual property is a work or invention that is the result of creativity, to which one has rights over. \n",
    "\n",
    "In the modernized world today, intellectual property can be shared more easily now through the Internet. This raises concerns about who owns something that was created digitally. \n"
   ]
  },
  {
   "cell_type": "markdown",
   "metadata": {},
   "source": [
    "## Copyright\n",
    "\n",
    "Copyright protects your IP and keeps anyone else from using it, unless they have permission. Anything you create like a picture u took or a digital drawing, you automatically own an “All rights reserved” copyright. If we pretend that material is our own then it becomes plagiarism \n",
    "\n",
    "There are ways to create material for others to use: \n",
    "\n",
    "Creative Commons\n",
    "- Provides free licenses that you can use to tell others how you want them to use your creation\n",
    "- Examples: If you draw a picture and you want other people to use and distribute it without asking for permission. If you have a song that you want to freely share \n",
    "- It clearly outlines whether certain people can use it for creative commons, whether it’s commercial or for another reason \n",
    "\n",
    "Open Source\n",
    "- Are open for anyone to use and the IP can modified in whatever ways people want, thus encouraging open collaboration \n",
    "- Refers exclusively to software\n",
    "\n",
    "Open Access \n",
    "- Online research output free of any restrictions (like copyright or licesnse restrictions) and free of use so people can use this however they wish\n",
    "- Example: Open access databases with journals and research papers for others to reference and use"
   ]
  },
  {
   "cell_type": "markdown",
   "metadata": {},
   "source": [
    "## <font color = \"FFC0C9\"> Popcorn Hack 1 </font> \n",
    "\n",
    "- Give an example of an open source software and explain why it is an open source. \n",
    "Tensorflow becuase they want more people to contribute to it."
   ]
  },
  {
   "cell_type": "markdown",
   "metadata": {},
   "source": [
    "## Legal/Ethical Concerns\n",
    "\n",
    "No matter how you use something, it’s still important to cite information and give credit where it belongs. There is so information at our fingertips and though open source programs may be created with good intentions, people will sometimes use these open sources and modify them to harm individuals or groups. \n",
    "\n",
    "There are legal concerns regarding computing devices that collect and analyze data by monitoring individual activity. Digital media downloads can sometimes include viruses and harmful programs\n",
    "\n",
    "#### Digital Divide and Bias \n",
    "\n",
    "Some softwares may include algorithms with bias. The training data for the software might underrepresent certain groups or demographics. Lack of fairness in algorithmic decision-making can perpetuate societal inequalities.\n",
    "\n",
    "The digital divide is the unequal distribution of access to technology Although the Internet provides all these resources for us to use, certain groups of people do not have the technology readily available for them to use. These databases and online resources are only beneficial to those who have the opportunities and privileges to understand and access technology. \n"
   ]
  },
  {
   "cell_type": "markdown",
   "metadata": {},
   "source": [
    "## <font color = \"FFC0C9\"> Popcorn Hack 2 </font> \n",
    "\n",
    "- What is another legal or ethical concern regarding intellectual property in technology?\n",
    "Big agglomeration can gain acces to our code and by doing so they can disseminate our information to various sources we do not concent to unfairly taking advantage of our coding ability"
   ]
  },
  {
   "cell_type": "markdown",
   "metadata": {},
   "source": [
    "**1. Difference between open source and open access:**\n",
    "   - *Open source* refers to the practice of providing access to the source code of a software program, allowing anyone to view, modify, and distribute it. It emphasizes collaboration and community-driven development. On the other hand, *open access* pertains to the accessibility of research outputs, typically scholarly articles, allowing the public to access, read, and sometimes reuse these materials without financial, legal, or technical barriers.\n",
    "\n",
    "**2. Importance of copyright:**\n",
    "   - Copyright is crucial as it provides creators with the exclusive right to their original works, encouraging innovation and creativity. It serves as a legal framework that protects the economic and moral rights of creators, ensuring they can benefit from their creations. Copyright also promotes a culture of sharing knowledge by balancing the interests of creators and the public through limitations and exceptions.\n",
    "\n",
    "**3. Harm through open source data:**\n",
    "   - While  open source data has numerous benefits, it can also pose risks. One way is through *privacy violations*. If sensitive personal information is inadvertently included in open source datasets, it can be exploited for malicious purposes, leading to identity theft, stalking, or other forms of harm to individuals or groups.\n",
    "\n",
    "**4. Term for unequal distribution of access to technology:**\n",
    "   - The term that describes the unequal distribution of access to technology is *digital divide*. This refers to the gap between those who have or do not have access to modern information and communication technology, creating disparities in opportunities, education, and economic advancement.\n",
    "\n",
    "**5. Future of intellectual property in 20 years:**\n",
    "   - In the future, I envision a shift towards a more collaborative and adaptive intellectual property system. Emerging technologies like artificial intelligence might lead to new forms of creativity where machines are also recognized as creators. There could be an increased focus on flexible intellectual property frameworks that balance the rights of creators with the needs of the public, fostering a more open and accessible knowledge ecosystem. Additionally, advancements in blockchain and decentralized technologies may revolutionize how intellectual property is managed, ensuring transparent attribution and fair compensation for creators. Creative commons and open source movements might gain even more prominence, fostering a culture of shared innovation and knowledge.\n"
   ]
  }
 ],
 "metadata": {
  "language_info": {
   "name": "python"
  }
 },
 "nbformat": 4,
 "nbformat_minor": 2
}

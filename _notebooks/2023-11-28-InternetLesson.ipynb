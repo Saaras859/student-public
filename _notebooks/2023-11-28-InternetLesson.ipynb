{
 "cells": [
  {
   "cell_type": "markdown",
   "metadata": {},
   "source": [
    "---\n",
    "toc: true\n",
    "comments: true\n",
    "layout: post\n",
    "title: InternetLesson\n",
    "type: tangibles\n",
    "courses: {'csp': {'week': 15}}\n",
    "---"
   ]
  },
  {
   "cell_type": "markdown",
   "metadata": {},
   "source": [
    "## Internet History Fun Facts\n",
    "- A catalyst in the formation of the Internet was the heating up of the Cold War. The Soviet Union's launch of the Sputnik satellite spurred the U.S. Defense Department to consider ways information could still be disseminated even after a nuclear attack.\n",
    "- ARPANET was created in 1969 and provided the foundation for what came to be known as the Internet\n",
    "- January 1, 1983 is the official birthday of the modern internet"
   ]
  },
  {
   "cell_type": "markdown",
   "metadata": {},
   "source": [
    "## FOR ME LATER MAKE SURE TO ADD DISCORD IMAGE OF \n",
    "https://files.slack.com/files-tmb/TUDAF53UJ-F065Y6QNP8E-1ab397c1fe/image_360.png"
   ]
  },
  {
   "cell_type": "markdown",
   "metadata": {},
   "source": [
    "## OSI Model\n",
    "\n",
    "The OSI (Open Systems Interconnection) model is a conceptual framework that standardizes the functions of a telecommunication or computing system into seven abstraction layers. Each layer in the OSI model performs specific functions, and together they facilitate communication between different systems. Here's a brief overview of what each layer does:  \n",
    "\n",
    "**1. Physical Layer (Layer 1):**\n",
    "- Manages the physical connection and transmission of raw data bits.\n",
    "\n",
    "**2. Data Link Layer (Layer 2):**\n",
    "- Ensures reliable communication over a physical layer, handling framing and addressing.\n",
    "\n",
    "**3. Network Layer (Layer 3):**\n",
    "- Focuses on logical addressing and routing data between different networks.\n",
    "\n",
    "**4. Transport Layer (Layer 4):**\n",
    "- Manages end-to-end communication, ensuring reliable and ordered data delivery.\n",
    "\n"
   ]
  },
  {
   "cell_type": "markdown",
   "metadata": {},
   "source": [
    "**1. Physical Layer (Layer 1) Example:**\n",
    "- **Scenario:** Transmitting data over an Ethernet cable.\n",
    "- **Functionality:**\n",
    "  - Manages the physical connection between devices.\n",
    "  - Handles the transmission of raw data bits over the Ethernet cable.\n",
    "  - Deals with aspects like cable types, connectors, and signal modulation.\n"
   ]
  },
  {
   "cell_type": "markdown",
   "metadata": {},
   "source": [
    "**Data Link Layer (Layer 2) Example:**\n",
    "- **Scenario:** Communication between two computers over an Ethernet network.\n",
    "- **Functionality:**\n",
    "  - Breaks data into frames with start and stop bits for accurate transmission.\n",
    "  - Manages MAC addresses for unique identification of devices.\n",
    "  - Regulates frame flow to prevent network congestion.\n",
    "  - Implements error-checking mechanisms like checksums or CRC for data integrity.\n"
   ]
  },
  {
   "cell_type": "markdown",
   "metadata": {},
   "source": [
    "**Network Layer (Layer 3) Example:**\n",
    "- **Scenario:** Routing data between two networks.\n",
    "- **Functionality:**\n",
    "  - Focuses on logical addressing to uniquely identify devices on different networks.\n",
    "  - Determines optimal paths for data to travel from the source to the destination.\n",
    "  - Manages communication between networks using routers.\n",
    "  - Provides a foundation for end-to-end communication across interconnected networks.\n"
   ]
  },
  {
   "cell_type": "markdown",
   "metadata": {},
   "source": [
    "**Transport Layer (Layer 4) Example:**\n",
    "- **Scenario:** Ensuring reliable communication between two applications.\n",
    "- **Functionality:**\n",
    "  - Manages end-to-end communication, ensuring data arrives reliably and in the correct order.\n",
    "  - Provides error detection and recovery mechanisms for data integrity.\n",
    "  - Uses protocols like TCP for connection-oriented and reliable communication.\n",
    "  - Supports protocols like UDP for connectionless and faster communication when some data loss is acceptable.\n"
   ]
  }
 ],
 "metadata": {
  "language_info": {
   "name": "python"
  }
 },
 "nbformat": 4,
 "nbformat_minor": 2
}

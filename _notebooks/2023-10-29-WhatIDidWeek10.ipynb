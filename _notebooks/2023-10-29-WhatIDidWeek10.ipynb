{
 "cells": [
  {
   "cell_type": "markdown",
   "metadata": {},
   "source": [
    "---\n",
    "toc: true\n",
    "comments: true\n",
    "layout: post\n",
    "title: Base64 blog\n",
    "type: hacks\n",
    "courses: {'csp': {'week': 10}}\n",
    "---"
   ]
  },
  {
   "cell_type": "code",
   "execution_count": null,
   "metadata": {},
   "outputs": [],
   "source": [
    "import base64\n",
    "\n",
    "# Open the image file in binary mode\n",
    "with open(\"image.jpeg\", \"rb\") as image_file:\n",
    "    # Read the binary data of the image file\n",
    "    binary_data = image_file.read()\n",
    "    # Encode the binary data into Base64\n",
    "    base64_encoded = base64.b64encode(binary_data).decode(\"utf-8\")\n",
    "\n",
    "# Now, base64_encoded contains the Base64 representation of the image\n",
    "print(base64_encoded)\n",
    "#MY OPTIMAL SOLUTION"
   ]
  },
  {
   "cell_type": "markdown",
   "metadata": {},
   "source": [
    "# **Navigating the Challenges of Base64 Encoding and POST Requests: My Practical Journey**\n",
    "\n",
    "In my exploration of web development, the integration of images into applications demanded a deep understanding of techniques like Base64 encoding and precise handling of POST requests. As a high school coder, I encountered both challenges and enlightenment during this journey.\n",
    "\n",
    "## **Encountering Base64 Encoding**\n",
    "\n",
    "Base64 encoding, a fundamental mechanism for representing binary data in ASCII text format, fascinated me. Its role in embedding images directly into web applications is crucial. However, my journey took an unexpected turn when a corrupted image disrupted the encoding process, hindering the functionality of my project.\n",
    "\n",
    "## **Exploring Base64 Encoding Methods**\n",
    "\n",
    "During this process, I explored multiple methods for Base64 encoding, each with its own advantages:\n",
    "\n",
    "### **1. Online Generator through Cloud:**\n",
    "\n",
    "One approach was using online tools and cloud services. These platforms offer user-friendly interfaces where you can upload an image, and they generate the Base64 encoded string for you. While convenient, this method might not be suitable for all situations, especially when dealing with sensitive data or when automation is required.\n",
    "\n",
    "### **2. Manual Encoding via Command Prompt:**\n",
    "\n",
    "For a more hands-on approach, I experimented with manual encoding using the command prompt or terminal. This method involved using built-in commands to read the binary data of an image file and then encode it into Base64. While providing more control, it proved to be cumbersome and time-consuming, especially for larger projects or multiple images.\n",
    "\n",
    "### **3. Python Library: The Elegant Solution**\n",
    "\n",
    "Amidst the challenges, I discovered an elegant solution through Python. As mentioned earlier, we had initial issues with JPG files, which led to image corruption during the encoding process. By converting the images to the JPEG format, we resolved this problem. Moreover, using Python's built-in `base64` library, I could effortlessly encode images into Base64 with minimal code, exemplifying the elegance and power of Python in handling complex tasks with simplicity.\n",
    "\n",
    "### **4. JPG solution**\n",
    "\n",
    "We had an issue where all my files were becoming corrupted the second I put them into vscode so then we converted them from JPEG to JPG which was able to fix it because apparently vscode has issues.\n"
   ]
  }
 ],
 "metadata": {
  "kernelspec": {
   "display_name": "Python 3",
   "language": "python",
   "name": "python3"
  },
  "language_info": {
   "name": "python",
   "version": "3.11.4"
  }
 },
 "nbformat": 4,
 "nbformat_minor": 2
}

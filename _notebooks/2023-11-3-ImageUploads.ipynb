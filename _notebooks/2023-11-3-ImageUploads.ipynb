{
 "cells": [
  {
   "cell_type": "markdown",
   "metadata": {},
   "source": [
    "---\n",
    "toc: true\n",
    "comments: true\n",
    "layout: post\n",
    "title: GetImagesWorking\n",
    "type: tangibles\n",
    "courses: {'csp': {'week': 8}}\n",
    "---"
   ]
  },
  {
   "cell_type": "markdown",
   "metadata": {},
   "source": [
    "# Adding Images to Markdown: A Quick Guide\n",
    "\n",
    "Markdown is a lightweight markup language that allows you to format text easily. I use it instead of HTML due to its better blogging functionlity\n",
    "\n",
    "## Basic Image Syntax\n",
    "\n",
    "To add an image to your markdown document, you can use the following syntax and get it to work relatively easily:\n",
    "\n",
    "![Alt Text] (relativepath)\n"
   ]
  },
  {
   "cell_type": "markdown",
   "metadata": {},
   "source": [
    "# Corruption Issue\n",
    "\n",
    "However recently, theres been a corruption issue within the images so what I do to resolve this is using discord which is able to host these images over the cloud making my life a lot easier in general heres how I do it.\n",
    "\n",
    "# Code Syntax\n",
    "![Alt Text](discord link)\n",
    "\n",
    "# Code Example\n",
    "![Error Image] (https://cdn.discordapp.com/attachments/932459151127355403/1169517472462934027/image.png?ex=6555b106&is=65433c06&hm=5f9444be9f7551b1473f228e261fa6dcc3db8a8a9d7f2d14d03a60e2ca6170ff&)\n"
   ]
  }
 ],
 "metadata": {
  "language_info": {
   "name": "python"
  }
 },
 "nbformat": 4,
 "nbformat_minor": 2
}

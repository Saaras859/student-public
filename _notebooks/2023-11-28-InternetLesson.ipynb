{
 "cells": [
  {
   "cell_type": "markdown",
   "metadata": {},
   "source": [
    "---\n",
    "toc: true\n",
    "comments: true\n",
    "layout: post\n",
    "title: InternetLesson\n",
    "type: tangibles\n",
    "courses: {'csp': {'week': 15}}\n",
    "---"
   ]
  },
  {
   "cell_type": "markdown",
   "metadata": {},
   "source": [
    "## Internet History Fun Facts\n",
    "- A catalyst in the formation of the Internet was the heating up of the Cold War. The Soviet Union's launch of the Sputnik satellite spurred the U.S. Defense Department to consider ways information could still be disseminated even after a nuclear attack.\n",
    "- ARPANET was created in 1969 and provided the foundation for what came to be known as the Internet\n",
    "- January 1, 1983 is the official birthday of the modern internet"
   ]
  },
  {
   "cell_type": "markdown",
   "metadata": {},
   "source": [
    "## FOR ME LATER MAKE SURE TO ADD DISCORD IMAGE OF \n",
    "https://files.slack.com/files-tmb/TUDAF53UJ-F065Y6QNP8E-1ab397c1fe/image_360.png"
   ]
  },
  {
   "cell_type": "markdown",
   "metadata": {},
   "source": [
    "## OSI Model\n",
    "\n",
    "The OSI (Open Systems Interconnection) model is a conceptual framework that standardizes the functions of a telecommunication or computing system into seven abstraction layers. Each layer in the OSI model performs specific functions, and together they facilitate communication between different systems. Here's a brief overview of what each layer does:  \n",
    "\n",
    "**1. Physical Layer (Layer 1):**\n",
    "- Manages the physical connection and transmission of raw data bits.\n",
    "\n",
    "**2. Data Link Layer (Layer 2):**\n",
    "- Ensures reliable communication over a physical layer, handling framing and addressing.\n",
    "\n",
    "**3. Network Layer (Layer 3):**\n",
    "- Focuses on logical addressing and routing data between different networks.\n",
    "\n",
    "**4. Transport Layer (Layer 4):**\n",
    "- Manages end-to-end communication, ensuring reliable and ordered data delivery.\n",
    "\n"
   ]
  },
  {
   "cell_type": "markdown",
   "metadata": {},
   "source": [
    "**1. Physical Layer (Layer 1) Example:**\n",
    "- **Scenario:** Transmitting data over an Ethernet cable.\n",
    "- **Functionality:**\n",
    "  - Manages the physical connection between devices.\n",
    "  - Handles the transmission of raw data bits over the Ethernet cable.\n",
    "  - Deals with aspects like cable types, connectors, and signal modulation.\n"
   ]
  },
  {
   "cell_type": "markdown",
   "metadata": {},
   "source": [
    "**Data Link Layer (Layer 2) Example:**\n",
    "- **Scenario:** Communication between two computers over an Ethernet network.\n",
    "- **Functionality:**\n",
    "  - Breaks data into frames with start and stop bits for accurate transmission.\n",
    "  - Manages MAC addresses for unique identification of devices.\n",
    "  - Regulates frame flow to prevent network congestion.\n",
    "  - Implements error-checking mechanisms like checksums or CRC for data integrity.\n"
   ]
  },
  {
   "cell_type": "markdown",
   "metadata": {},
   "source": [
    "**Network Layer (Layer 3) Example:**\n",
    "- **Scenario:** Routing data between two networks.\n",
    "- **Functionality:**\n",
    "  - Focuses on logical addressing to uniquely identify devices on different networks.\n",
    "  - Determines optimal paths for data to travel from the source to the destination.\n",
    "  - Manages communication between networks using routers.\n",
    "  - Provides a foundation for end-to-end communication across interconnected networks.\n"
   ]
  },
  {
   "cell_type": "markdown",
   "metadata": {},
   "source": [
    "**Transport Layer (Layer 4) Example:**\n",
    "- **Scenario:** Ensuring reliable communication between two applications.\n",
    "- **Functionality:**\n",
    "  - Manages end-to-end communication, ensuring data arrives reliably and in the correct order.\n",
    "  - Provides error detection and recovery mechanisms for data integrity.\n",
    "  - Uses protocols like TCP for connection-oriented and reliable communication.\n",
    "  - Supports protocols like UDP for connectionless and faster communication when some data loss is acceptable.\n"
   ]
  },
  {
   "cell_type": "markdown",
   "metadata": {},
   "source": [
    "**Transport Layer (Layer 4) - TCP vs. UDP**\n",
    "\n",
    "### TCP (Transmission Control Protocol)\n",
    "- **Scenario:** Reliable communication requiring guaranteed data delivery.\n",
    "- **Functionality:**\n",
    "  - Establishes a connection between sender and receiver before data transfer.\n",
    "  - Ensures reliable and ordered delivery of data.\n",
    "  - Implements error detection and correction mechanisms.\n",
    "  - Well-suited for applications where data integrity is crucial, such as file transfers and web browsing.\n",
    "\n",
    "### UDP (User Datagram Protocol)\n",
    "- **Scenario:** Faster communication with acceptable data loss.\n",
    "- **Functionality:**\n",
    "  - Connectionless protocol without establishing a connection before data transfer.\n",
    "  - Does not guarantee reliable or ordered delivery of data.\n",
    "  - Suitable for real-time applications like video streaming and online gaming, where speed is prioritized over perfect data transmission.\n",
    "  - Minimal overhead, making it more lightweight than TCP.\n",
    "\n",
    "**TCP and UDP are two different approaches to data transport, each suited to specific application requirements. The choice between them depends on the priorities of the application: reliability (TCP) or speed (UDP).**\n",
    "\n"
   ]
  }
 ],
 "metadata": {
  "language_info": {
   "name": "python"
  }
 },
 "nbformat": 4,
 "nbformat_minor": 2
}

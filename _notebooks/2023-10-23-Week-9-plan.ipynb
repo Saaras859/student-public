{
 "cells": [
  {
   "cell_type": "markdown",
   "metadata": {},
   "source": [
    "---\n",
    "toc: true\n",
    "comments: true\n",
    "layout: post\n",
    "title: Week 9\n",
    "description: Plans\n",
    "courses: { csp: {week: 9} }\n",
    "type: plans\n",
    "---"
   ]
  },
  {
   "cell_type": "markdown",
   "metadata": {},
   "source": [
    "# Plans for this week\n",
    "- Start integrating the frotend in\n",
    "- Finish the base64\n",
    "- Start designing the website\n",
    "- Make a AWS endpoints\n",
    "- Make sure everyone knows how to put code on AWS"
   ]
  }
 ],
 "metadata": {
  "language_info": {
   "name": "python"
  }
 },
 "nbformat": 4,
 "nbformat_minor": 2
}
